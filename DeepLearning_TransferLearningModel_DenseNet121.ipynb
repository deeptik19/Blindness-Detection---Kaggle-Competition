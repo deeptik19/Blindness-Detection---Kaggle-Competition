{
  "nbformat": 4,
  "nbformat_minor": 0,
  "metadata": {
    "colab": {
      "name": "Project_DeepLearning_TransferLearningModel - DenseNet121.ipynb",
      "version": "0.3.2",
      "provenance": [],
      "collapsed_sections": []
    },
    "kernelspec": {
      "name": "python3",
      "display_name": "Python 3"
    },
    "accelerator": "GPU"
  },
  "cells": [
    {
      "cell_type": "markdown",
      "metadata": {
        "id": "ScP1qPMEqJAj",
        "colab_type": "text"
      },
      "source": [
        "## Import Libraries"
      ]
    },
    {
      "cell_type": "code",
      "metadata": {
        "id": "tn7xF2gB26b_",
        "colab_type": "code",
        "outputId": "8698d929-ac41-4962-99be-5f2f511becf7",
        "colab": {
          "base_uri": "https://localhost:8080/",
          "height": 34
        }
      },
      "source": [
        "import tensorflow as tf\n",
        "from tensorflow import keras\n",
        "import numpy as np\n",
        "import matplotlib.pyplot as plt\n",
        "from keras.models import Sequential\n",
        "from keras.layers import Dense\n",
        "from keras.layers import Dropout\n",
        "from keras.layers import Flatten\n",
        "from keras.layers import Activation\n",
        "from keras.layers.convolutional import Conv2D\n",
        "from keras.layers.convolutional import MaxPooling2D\n",
        "from keras.preprocessing.image import ImageDataGenerator\n",
        "from keras.preprocessing import image\n",
        "from keras.applications import VGG16\n",
        "import pandas as pd\n",
        "import zipfile\n",
        "import re\n",
        "import os\n",
        "import pathlib\n",
        "print(tf.__version__)"
      ],
      "execution_count": 0,
      "outputs": [
        {
          "output_type": "stream",
          "text": [
            "1.14.0\n"
          ],
          "name": "stdout"
        }
      ]
    },
    {
      "cell_type": "markdown",
      "metadata": {
        "id": "6101JSzNqRd6",
        "colab_type": "text"
      },
      "source": [
        "##Mount the Drive to access the image data"
      ]
    },
    {
      "cell_type": "code",
      "metadata": {
        "id": "OdlqoxvkGPgC",
        "colab_type": "code",
        "outputId": "384f4844-d3c3-434c-fc1a-cf13343ea9f6",
        "colab": {
          "base_uri": "https://localhost:8080/",
          "height": 121
        }
      },
      "source": [
        "from google.colab import drive\n",
        "drive.mount('/content/drive')"
      ],
      "execution_count": 0,
      "outputs": [
        {
          "output_type": "stream",
          "text": [
            "Go to this URL in a browser: https://accounts.google.com/o/oauth2/auth?client_id=947318989803-6bn6qk8qdgf4n4g3pfee6491hc0brc4i.apps.googleusercontent.com&redirect_uri=urn%3Aietf%3Awg%3Aoauth%3A2.0%3Aoob&scope=email%20https%3A%2F%2Fwww.googleapis.com%2Fauth%2Fdocs.test%20https%3A%2F%2Fwww.googleapis.com%2Fauth%2Fdrive%20https%3A%2F%2Fwww.googleapis.com%2Fauth%2Fdrive.photos.readonly%20https%3A%2F%2Fwww.googleapis.com%2Fauth%2Fpeopleapi.readonly&response_type=code\n",
            "\n",
            "Enter your authorization code:\n",
            "··········\n",
            "Mounted at /content/drive\n"
          ],
          "name": "stdout"
        }
      ]
    },
    {
      "cell_type": "markdown",
      "metadata": {
        "id": "0ZxkbMkn6rqr",
        "colab_type": "text"
      },
      "source": [
        "##Import Dataset"
      ]
    },
    {
      "cell_type": "markdown",
      "metadata": {
        "id": "Z1g1Ak3dqdld",
        "colab_type": "text"
      },
      "source": [
        "#### Extract the training and testing zip files"
      ]
    },
    {
      "cell_type": "code",
      "metadata": {
        "id": "EiX6iLx_UElU",
        "colab_type": "code",
        "colab": {}
      },
      "source": [
        "# Extracting train.zip into the drive\n",
        "train_zf = zipfile.ZipFile(\"/content/drive/My Drive/aptos2019-blindness-detection/train_images.zip\")\n",
        "train_zf.extractall(path='/content/drive/My Drive/aptos2019-blindness-detection/train')\n",
        "\n",
        "# Extracting test.zip into the drive\n",
        "test_zf = zipfile.ZipFile(\"/content/drive/My Drive/aptos2019-blindness-detection/test_images.zip\")\n",
        "test_zf.extractall(path='/content/drive/My Drive/aptos2019-blindness-detection/test')"
      ],
      "execution_count": 0,
      "outputs": []
    },
    {
      "cell_type": "markdown",
      "metadata": {
        "id": "XXbjDkQeWJdH",
        "colab_type": "text"
      },
      "source": [
        "#### Check if the created folders-train and test contain correct number of images or not"
      ]
    },
    {
      "cell_type": "code",
      "metadata": {
        "id": "vT8xXKst5lLh",
        "colab_type": "code",
        "outputId": "b7478bfb-e3fb-4476-b26a-9478bd329888",
        "colab": {
          "base_uri": "https://localhost:8080/",
          "height": 50
        }
      },
      "source": [
        "import os, os.path\n",
        "\n",
        "DIR_test = '/content/drive/My Drive/aptos2019-blindness-detection/test'\n",
        "DIR_train = '/content/drive/My Drive/aptos2019-blindness-detection/train'\n",
        "\n",
        "print(len([name for name in os.listdir(DIR_test) if os.path.isfile(os.path.join(DIR_test, name))]))\n",
        "print(len([name for name in os.listdir(DIR_train) if os.path.isfile(os.path.join(DIR_train, name))]))"
      ],
      "execution_count": 0,
      "outputs": [
        {
          "output_type": "stream",
          "text": [
            "1928\n",
            "3662\n"
          ],
          "name": "stdout"
        }
      ]
    },
    {
      "cell_type": "markdown",
      "metadata": {
        "id": "4JcZYd9FWpHg",
        "colab_type": "text"
      },
      "source": [
        "####Create Dataframes from the csv files. Convert the id_code in the files to match the image names by apending .png"
      ]
    },
    {
      "cell_type": "code",
      "metadata": {
        "id": "yId-FoLQ-edz",
        "colab_type": "code",
        "colab": {}
      },
      "source": [
        "def append_ext(fn):\n",
        "    return fn+\".png\"\n",
        "  \n",
        "traindf=pd.read_csv('/content/drive/My Drive/aptos2019-blindness-detection/train.csv',dtype=str)\n",
        "testdf=pd.read_csv(\"/content/drive/My Drive/aptos2019-blindness-detection/test.csv\",dtype=str)\n",
        "\n",
        "traindf[\"id_code\"]=traindf[\"id_code\"].apply(append_ext)\n",
        "testdf[\"id_code\"]=testdf[\"id_code\"].apply(append_ext)\n",
        "\n",
        "datagen=ImageDataGenerator(rescale=1./255.,validation_split=0.25)"
      ],
      "execution_count": 0,
      "outputs": []
    },
    {
      "cell_type": "markdown",
      "metadata": {
        "id": "f7hHdiVFq_zr",
        "colab_type": "text"
      },
      "source": [
        "#### Create training and validation data generators by splitting the training data.(75% training +25% validation)"
      ]
    },
    {
      "cell_type": "code",
      "metadata": {
        "id": "LBplA2i8NuAq",
        "colab_type": "code",
        "outputId": "4d82e1bf-474e-432a-effd-3a5d7bbf71ac",
        "colab": {
          "base_uri": "https://localhost:8080/",
          "height": 104
        }
      },
      "source": [
        "# Data Augmentation with roration, shifting, flipping images  \n",
        "\n",
        "train_generator=datagen.flow_from_dataframe(dataframe=traindf,\n",
        "directory=\"/content/drive/My Drive/aptos2019-blindness-detection/train/\",\n",
        "x_col=\"id_code\",\n",
        "y_col=\"diagnosis\",\n",
        "subset=\"training\",\n",
        "color_mode=\"rgb\",\n",
        "batch_size=32,\n",
        "seed=42,\n",
        "shuffle=True,\n",
        "class_mode=\"categorical\",\n",
        "target_size=(32,32),\n",
        "rotation_range=20,\n",
        "width_shift_range=0.2,  #\n",
        "height_shift_range=0.2,\n",
        "horizontal_flip=True, # randomly flips inputs horizontally\n",
        "vertical_flip=True) # randomly flips inputs vertically\n",
        "\n",
        "valid_generator=datagen.flow_from_dataframe(\n",
        "dataframe=traindf,\n",
        "directory=\"/content/drive/My Drive/aptos2019-blindness-detection/train/\",\n",
        "x_col=\"id_code\",\n",
        "y_col=\"diagnosis\",\n",
        "subset=\"validation\",\n",
        "color_mode=\"rgb\",\n",
        "batch_size=32,\n",
        "seed=42,\n",
        "shuffle=True,\n",
        "class_mode=\"categorical\",\n",
        "target_size=(32,32),\n",
        "rotation_range=20,\n",
        "width_shift_range=0.2,  \n",
        "height_shift_range=0.2,\n",
        "horizontal_flip=True,\n",
        "vertical_flip=True)"
      ],
      "execution_count": 0,
      "outputs": [
        {
          "output_type": "stream",
          "text": [
            "/usr/local/lib/python3.6/dist-packages/keras_preprocessing/image/dataframe_iterator.py:273: UserWarning: Found 14 invalid image filename(s) in x_col=\"id_code\". These filename(s) will be ignored.\n",
            "  .format(n_invalid, x_col)\n"
          ],
          "name": "stderr"
        },
        {
          "output_type": "stream",
          "text": [
            "Found 2736 validated image filenames belonging to 5 classes.\n",
            "Found 912 validated image filenames belonging to 5 classes.\n"
          ],
          "name": "stdout"
        }
      ]
    },
    {
      "cell_type": "markdown",
      "metadata": {
        "id": "Yw_eBKAEqy7F",
        "colab_type": "text"
      },
      "source": [
        "#### Create the test datagenerator from the test data. Further which can be used for predictions"
      ]
    },
    {
      "cell_type": "code",
      "metadata": {
        "id": "vIfrChrPQ2CF",
        "colab_type": "code",
        "outputId": "7dd64a16-68c9-4b62-c8f1-b5db7e2bc49f",
        "colab": {
          "base_uri": "https://localhost:8080/",
          "height": 34
        }
      },
      "source": [
        "test_datagen=ImageDataGenerator(rescale=1./255.)\n",
        "test_generator=test_datagen.flow_from_dataframe(\n",
        "dataframe=testdf,\n",
        "directory=\"/content/drive/My Drive/aptos2019-blindness-detection/test/\",\n",
        "x_col=\"id_code\",\n",
        "y_col=None,\n",
        "batch_size=32,\n",
        "color_mode=\"rgb\",\n",
        "seed=42,\n",
        "shuffle=False,\n",
        "class_mode=None,\n",
        "target_size=(32,32))"
      ],
      "execution_count": 0,
      "outputs": [
        {
          "output_type": "stream",
          "text": [
            "Found 1928 validated image filenames.\n"
          ],
          "name": "stdout"
        }
      ]
    },
    {
      "cell_type": "code",
      "metadata": {
        "id": "RGygZIsM4nkD",
        "colab_type": "code",
        "colab": {}
      },
      "source": [
        "from PIL import ImageFile\n",
        "ImageFile.LOAD_TRUNCATED_IMAGES = True"
      ],
      "execution_count": 0,
      "outputs": []
    },
    {
      "cell_type": "markdown",
      "metadata": {
        "id": "GhYKZVv40Km1",
        "colab_type": "text"
      },
      "source": [
        "##Model - Dense121"
      ]
    },
    {
      "cell_type": "code",
      "metadata": {
        "id": "vu7prQSpzyo6",
        "colab_type": "code",
        "outputId": "727c4788-dce8-4ba6-e18a-06a6f8a08d32",
        "colab": {
          "base_uri": "https://localhost:8080/",
          "height": 104
        }
      },
      "source": [
        "from keras.applications.densenet import DenseNet121\n",
        "from keras.activations import softmax, relu\n",
        "from keras.applications.resnet50 import ResNet50\n",
        "from keras.layers import Conv2D, MaxPooling2D, GlobalAveragePooling2D, Input, BatchNormalization\n",
        "from keras.models import Sequential, Model\n",
        "\n",
        "input_tensor=Input(shape=(32, 32,3))  \n",
        "dense121_model5 =DenseNet121(weights='imagenet', include_top=False, \n",
        "                             input_tensor= input_tensor)    \n",
        "x=GlobalAveragePooling2D()(dense121_model5.output)\n",
        "x=Dropout(0.3)(x)\n",
        "x=Dense(32, activation=relu)(x)\n",
        "x=Dropout(0.2)(x)\n",
        "x=BatchNormalization()(x)\n",
        "output_layer=Dense(5,activation='softmax', name=\"Output_Layer\")(x)\n",
        "fine_tuning_dense121_model5 =Model(input_tensor, output_layer)"
      ],
      "execution_count": 0,
      "outputs": [
        {
          "output_type": "stream",
          "text": [
            "W0724 23:04:20.440896 139913733465984 deprecation_wrapper.py:119] From /usr/local/lib/python3.6/dist-packages/keras/backend/tensorflow_backend.py:3980: The name tf.nn.avg_pool is deprecated. Please use tf.nn.avg_pool2d instead.\n",
            "\n"
          ],
          "name": "stderr"
        },
        {
          "output_type": "stream",
          "text": [
            "Downloading data from https://github.com/keras-team/keras-applications/releases/download/densenet/densenet121_weights_tf_dim_ordering_tf_kernels_notop.h5\n",
            "29089792/29084464 [==============================] - 1s 0us/step\n"
          ],
          "name": "stdout"
        }
      ]
    },
    {
      "cell_type": "markdown",
      "metadata": {
        "id": "nujQ0WetEtau",
        "colab_type": "text"
      },
      "source": [
        "### Model Compile"
      ]
    },
    {
      "cell_type": "code",
      "metadata": {
        "id": "rqIl3vFB1fRL",
        "colab_type": "code",
        "colab": {}
      },
      "source": [
        "\n",
        "from keras.optimizers import Adam, rmsprop, RMSprop\n",
        "import gc\n",
        "\n",
        "lr = 0.2\n",
        "optimizer=rmsprop(lr=lr,decay=0.2)\n",
        "fine_tuning_dense121_model5.compile(optimizer=optimizer, loss=keras.losses.categorical_crossentropy,  metrics=['accuracy'])"
      ],
      "execution_count": 0,
      "outputs": []
    },
    {
      "cell_type": "markdown",
      "metadata": {
        "id": "aQCObFiTEqQq",
        "colab_type": "text"
      },
      "source": [
        "###Early Processing"
      ]
    },
    {
      "cell_type": "code",
      "metadata": {
        "id": "APscSVPC2yvB",
        "colab_type": "code",
        "outputId": "ef771639-1a00-4e49-cb8d-406511e9f60d",
        "colab": {
          "base_uri": "https://localhost:8080/",
          "height": 50
        }
      },
      "source": [
        "from keras.callbacks import EarlyStopping, ReduceLROnPlateau\n",
        "\n",
        "rLRp = ReduceLROnPlateau(monitor='val_loss', factor=0.5, patience=4, \n",
        "                                   verbose=1, mode='auto', epsilon=0.0001)\n",
        "es = EarlyStopping(monitor=\"val_loss\", \n",
        "                      mode=\"min\", \n",
        "                      patience=12)"
      ],
      "execution_count": 0,
      "outputs": [
        {
          "output_type": "stream",
          "text": [
            "/usr/local/lib/python3.6/dist-packages/keras/callbacks.py:1065: UserWarning: `epsilon` argument is deprecated and will be removed, use `min_delta` instead.\n",
            "  warnings.warn('`epsilon` argument is deprecated and '\n"
          ],
          "name": "stderr"
        }
      ]
    },
    {
      "cell_type": "markdown",
      "metadata": {
        "id": "1xj2jPykE6Xv",
        "colab_type": "text"
      },
      "source": [
        "### Model Fit"
      ]
    },
    {
      "cell_type": "code",
      "metadata": {
        "id": "a9R8aijl3Uc9",
        "colab_type": "code",
        "outputId": "aa7b7f2b-dad0-41d1-eecc-7007428cd4d6",
        "colab": {
          "base_uri": "https://localhost:8080/",
          "height": 185
        }
      },
      "source": [
        "fine_tuning_dense121_model5_history=fine_tuning_dense121_model5.fit_generator(generator=train_generator,\n",
        "                           steps_per_epoch=len(train_generator),\n",
        "                           validation_data=valid_generator,\n",
        "                           validation_steps=len(valid_generator),\n",
        "                           epochs=5,\n",
        "                           callbacks = [es, rLRp], \n",
        "                           use_multiprocessing = True,                    \n",
        "                           verbose=2)"
      ],
      "execution_count": 0,
      "outputs": [
        {
          "output_type": "stream",
          "text": [
            "Epoch 1/5\n",
            " - 380s - loss: 0.6893 - acc: 0.7525 - val_loss: 0.8037 - val_acc: 0.7127\n",
            "Epoch 2/5\n",
            " - 347s - loss: 0.7039 - acc: 0.7500 - val_loss: 0.7556 - val_acc: 0.7292\n",
            "Epoch 3/5\n",
            " - 356s - loss: 0.6818 - acc: 0.7529 - val_loss: 0.8174 - val_acc: 0.6853\n",
            "Epoch 4/5\n",
            " - 374s - loss: 0.6873 - acc: 0.7543 - val_loss: 0.8147 - val_acc: 0.7029\n",
            "Epoch 5/5\n",
            " - 370s - loss: 0.6741 - acc: 0.7565 - val_loss: 0.7283 - val_acc: 0.7489\n"
          ],
          "name": "stdout"
        }
      ]
    },
    {
      "cell_type": "code",
      "metadata": {
        "id": "o0u46_9M1l5k",
        "colab_type": "code",
        "outputId": "66c7b36a-f0ab-4287-b6d4-17ce11d66554",
        "colab": {
          "base_uri": "https://localhost:8080/",
          "height": 34
        }
      },
      "source": [
        "print(\"Model maximum accuracy:\",max(fine_tuning_dense121_model5_history.history['val_acc']))"
      ],
      "execution_count": 0,
      "outputs": [
        {
          "output_type": "stream",
          "text": [
            "Model maximum accuracy: 0.7489035087719298\n"
          ],
          "name": "stdout"
        }
      ]
    },
    {
      "cell_type": "markdown",
      "metadata": {
        "id": "EkDcZvroE9uu",
        "colab_type": "text"
      },
      "source": [
        "### Accuracy Plot"
      ]
    },
    {
      "cell_type": "code",
      "metadata": {
        "id": "8EjetIc-1ndw",
        "colab_type": "code",
        "outputId": "76d22d6c-0f2b-4f75-fc39-ddc9564f72d0",
        "colab": {
          "base_uri": "https://localhost:8080/",
          "height": 283
        }
      },
      "source": [
        "accu=fine_tuning_dense121_model5_history.history['acc']\n",
        "val_acc=fine_tuning_dense121_model5_history.history['val_acc']\n",
        "\n",
        "plt.plot(accu,label=\"Accuracy\")\n",
        "plt.plot(val_acc)\n",
        "plt.xlabel(\"Epoch\")\n",
        "plt.ylabel(\"Accuracy\")\n",
        "plt.legend(['Acc','val_acc'])\n",
        "plt.plot( np.argmax(fine_tuning_dense121_model5_history.history[\"val_acc\"]), np.max(fine_tuning_dense121_model5_history.history[\"val_acc\"]), marker=\"x\", color=\"r\", label=\"best model\")\n",
        "plt.show()"
      ],
      "execution_count": 0,
      "outputs": [
        {
          "output_type": "display_data",
          "data": {
            "image/png": "[encoded data removed]",
            "text/plain": [
              "<Figure size 432x288 with 1 Axes>"
            ]
          },
          "metadata": {
            "tags": []
          }
        }
      ]
    },
    {
      "cell_type": "markdown",
      "metadata": {
        "id": "cb9Fm2ukFBuv",
        "colab_type": "text"
      },
      "source": [
        "### Loss Plot"
      ]
    },
    {
      "cell_type": "code",
      "metadata": {
        "id": "F2GQIQR21pJb",
        "colab_type": "code",
        "outputId": "af85efa0-2214-4960-c67f-a4896932cfe1",
        "colab": {
          "base_uri": "https://localhost:8080/",
          "height": 295
        }
      },
      "source": [
        "plt.figure(figsize=(4,4))\n",
        "plt.title(\"Learning curve\")\n",
        "plt.plot(fine_tuning_dense121_model5_history.history[\"loss\"], label=\"loss\")\n",
        "plt.plot(fine_tuning_dense121_model5_history.history[\"val_loss\"], label=\"val_loss\")\n",
        "plt.plot( np.argmin(fine_tuning_dense121_model5_history.history[\"val_loss\"]), np.min(fine_tuning_dense121_model5_history.history[\"val_loss\"]), marker=\"x\", color=\"r\", label=\"best model\")\n",
        "plt.xlabel(\"Epochs\")\n",
        "plt.ylabel(\"log_loss\")\n",
        "plt.legend();"
      ],
      "execution_count": 0,
      "outputs": [
        {
          "output_type": "display_data",
          "data": {
            "image/png": "[encoded data removed]",
            "text/plain": [
              "<Figure size 288x288 with 1 Axes>"
            ]
          },
          "metadata": {
            "tags": []
          }
        }
      ]
    },
    {
      "cell_type": "markdown",
      "metadata": {
        "id": "l7cCSQq8FGte",
        "colab_type": "text"
      },
      "source": [
        "## Confusion Matrix for validation data"
      ]
    },
    {
      "cell_type": "code",
      "metadata": {
        "id": "q_zxZyD-zfY-",
        "colab_type": "code",
        "outputId": "96360c4b-1b6a-4306-e3b8-2a6146c60250",
        "colab": {
          "base_uri": "https://localhost:8080/",
          "height": 390
        }
      },
      "source": [
        "#Confusion Matrix and Classification Report\n",
        "from sklearn.metrics import classification_report, confusion_matrix\n",
        "\n",
        "Y_pred = fine_tuning_dense121_model5.predict_generator(valid_generator, len(valid_generator)) #test_generator.n//test_generator.batch_size+1) # num_of_test_samples // batch_size+1)\n",
        "y_pred = np.argmax(Y_pred, axis=1)\n",
        "print('Confusion Matrix')\n",
        "cnf_matrix= confusion_matrix(valid_generator.classes, y_pred)\n",
        "print(cnf_matrix)\n",
        "print('Classification Report')\n",
        "target_names = ['0 - No DR','1 - Mild','2 - Moderate','3 - Severe','4 - Proliferative DR']\n",
        "print(classification_report(valid_generator.classes, y_pred, target_names=target_names))"
      ],
      "execution_count": 0,
      "outputs": [
        {
          "output_type": "stream",
          "text": [
            "Confusion Matrix\n",
            "[[212  25 185   0   0]\n",
            " [ 45  10  41   0   0]\n",
            " [129  13 127   0   0]\n",
            " [ 22   1  26   0   0]\n",
            " [ 30   4  42   0   0]]\n",
            "Classification Report\n",
            "                      precision    recall  f1-score   support\n",
            "\n",
            "           0 - No DR       0.48      0.50      0.49       422\n",
            "            1 - Mild       0.19      0.10      0.13        96\n",
            "        2 - Moderate       0.30      0.47      0.37       269\n",
            "          3 - Severe       0.00      0.00      0.00        49\n",
            "4 - Proliferative DR       0.00      0.00      0.00        76\n",
            "\n",
            "            accuracy                           0.38       912\n",
            "           macro avg       0.19      0.22      0.20       912\n",
            "        weighted avg       0.33      0.38      0.35       912\n",
            "\n"
          ],
          "name": "stdout"
        },
        {
          "output_type": "stream",
          "text": [
            "/usr/local/lib/python3.6/dist-packages/sklearn/metrics/classification.py:1437: UndefinedMetricWarning: Precision and F-score are ill-defined and being set to 0.0 in labels with no predicted samples.\n",
            "  'precision', 'predicted', average, warn_for)\n"
          ],
          "name": "stderr"
        }
      ]
    },
    {
      "cell_type": "markdown",
      "metadata": {
        "id": "IEbaTAdzFMVm",
        "colab_type": "text"
      },
      "source": [
        "### Confusion matrix Heat Map"
      ]
    },
    {
      "cell_type": "code",
      "metadata": {
        "id": "VsKRatjirPxR",
        "colab_type": "code",
        "outputId": "a0803609-545f-47d4-9aeb-899ca7e30d9f",
        "colab": {
          "base_uri": "https://localhost:8080/",
          "height": 467
        }
      },
      "source": [
        "#Heat Map\n",
        "\n",
        "import seaborn as sns\n",
        "from sklearn.metrics import classification_report, confusion_matrix\n",
        "\n",
        "labels=['0 - No DR','1 - Mild','2 - Moderate','3 - Severe','4 - Proliferative DR']\n",
        "\n",
        "cnf_matrix_norm=cnf_matrix.astype('float')/cnf_matrix.sum(axis=1)[:,np.newaxis]\n",
        "df_cm=pd.DataFrame(cnf_matrix_norm,index=labels,columns=labels)\n",
        "\n",
        "plt.figure(figsize=(16,7))\n",
        "sns.heatmap(df_cm,annot=True,fmt='.2f',cmap='Blues')\n",
        "plt.show()"
      ],
      "execution_count": 0,
      "outputs": [
        {
          "output_type": "display_data",
          "data": {
            "image/png": "[encoded data removed]",
            "text/plain": [
              "<Figure size 1152x504 with 2 Axes>"
            ]
          },
          "metadata": {
            "tags": []
          }
        }
      ]
    },
    {
      "cell_type": "markdown",
      "metadata": {
        "id": "OOuuZyMmFTd1",
        "colab_type": "text"
      },
      "source": [
        "### Model Prediction"
      ]
    },
    {
      "cell_type": "code",
      "metadata": {
        "id": "ROch9Jumrfs2",
        "colab_type": "code",
        "outputId": "df8ad134-6e7e-48f1-a0e2-e2be98304116",
        "colab": {
          "base_uri": "https://localhost:8080/",
          "height": 34
        }
      },
      "source": [
        "from tqdm import tqdm\n",
        "\n",
        "\n",
        "tta_steps = 10\n",
        "preds_tta=[]\n",
        "\n",
        "for i in tqdm(range(tta_steps)):\n",
        "    test_generator.reset()\n",
        "    preds = fine_tuning_resnet_model.predict_generator(generator=test_generator,steps =len(test_generator))\n",
        "#     print('Before ', preds.shape)\n",
        "    preds_tta.append(preds)\n",
        "#     print(i,  len(preds_tta))"
      ],
      "execution_count": 0,
      "outputs": [
        {
          "output_type": "stream",
          "text": [
            "100%|██████████| 10/10 [11:38<00:00, 69.81s/it]\n"
          ],
          "name": "stderr"
        }
      ]
    },
    {
      "cell_type": "code",
      "metadata": {
        "id": "4BZtEyBGB81q",
        "colab_type": "code",
        "outputId": "e322e157-6432-4686-c9a7-051e9f703a23",
        "colab": {
          "base_uri": "https://localhost:8080/",
          "height": 34
        }
      },
      "source": [
        "final_pred = np.mean(preds_tta, axis=0)\n",
        "predicted_class_indices = np.argmax(final_pred, axis=1)\n",
        "len(predicted_class_indices)"
      ],
      "execution_count": 0,
      "outputs": [
        {
          "output_type": "execute_result",
          "data": {
            "text/plain": [
              "1928"
            ]
          },
          "metadata": {
            "tags": []
          },
          "execution_count": 60
        }
      ]
    },
    {
      "cell_type": "code",
      "metadata": {
        "id": "4hOxxHinB_Dq",
        "colab_type": "code",
        "outputId": "0e62b639-70df-412d-bd9f-c93ebe6a5884",
        "colab": {
          "base_uri": "https://localhost:8080/",
          "height": 195
        }
      },
      "source": [
        "#test_generator.filenames.apply(lambda x: x[-4])\n",
        "results=pd.DataFrame({\"id_code\":test_generator.filenames, \"diagnosis\":predicted_class_indices})  \n",
        "results.id_code=results.id_code.apply(lambda x: x[:-4])\n",
        "results.to_csv(\"submission.csv\", index=False)\n",
        "results.head()"
      ],
      "execution_count": 0,
      "outputs": [
        {
          "output_type": "execute_result",
          "data": {
            "text/html": [
              "<div>\n",
              "<style scoped>\n",
              "    .dataframe tbody tr th:only-of-type {\n",
              "        vertical-align: middle;\n",
              "    }\n",
              "\n",
              "    .dataframe tbody tr th {\n",
              "        vertical-align: top;\n",
              "    }\n",
              "\n",
              "    .dataframe thead th {\n",
              "        text-align: right;\n",
              "    }\n",
              "</style>\n",
              "<table border=\"1\" class=\"dataframe\">\n",
              "  <thead>\n",
              "    <tr style=\"text-align: right;\">\n",
              "      <th></th>\n",
              "      <th>id_code</th>\n",
              "      <th>diagnosis</th>\n",
              "    </tr>\n",
              "  </thead>\n",
              "  <tbody>\n",
              "    <tr>\n",
              "      <th>0</th>\n",
              "      <td>0005cfc8afb6</td>\n",
              "      <td>2</td>\n",
              "    </tr>\n",
              "    <tr>\n",
              "      <th>1</th>\n",
              "      <td>003f0afdcd15</td>\n",
              "      <td>2</td>\n",
              "    </tr>\n",
              "    <tr>\n",
              "      <th>2</th>\n",
              "      <td>006efc72b638</td>\n",
              "      <td>2</td>\n",
              "    </tr>\n",
              "    <tr>\n",
              "      <th>3</th>\n",
              "      <td>00836aaacf06</td>\n",
              "      <td>2</td>\n",
              "    </tr>\n",
              "    <tr>\n",
              "      <th>4</th>\n",
              "      <td>009245722fa4</td>\n",
              "      <td>2</td>\n",
              "    </tr>\n",
              "  </tbody>\n",
              "</table>\n",
              "</div>"
            ],
            "text/plain": [
              "        id_code  diagnosis\n",
              "0  0005cfc8afb6          2\n",
              "1  003f0afdcd15          2\n",
              "2  006efc72b638          2\n",
              "3  00836aaacf06          2\n",
              "4  009245722fa4          2"
            ]
          },
          "metadata": {
            "tags": []
          },
          "execution_count": 72
        }
      ]
    }
  ]
}